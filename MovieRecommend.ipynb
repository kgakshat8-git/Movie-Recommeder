{
 "cells": [
  {
   "cell_type": "code",
   "execution_count": 295,
   "id": "f78cf6d0-f444-489a-bbbf-cc7a4b22bc65",
   "metadata": {},
   "outputs": [],
   "source": [
    "import numpy as np\n",
    "import pandas as pd"
   ]
  },
  {
   "cell_type": "code",
   "execution_count": 296,
   "id": "4e890005-6aaf-4a01-a441-fdb2af7348dd",
   "metadata": {},
   "outputs": [],
   "source": [
    "movies = pd.read_csv('tmdb_5000_movies.csv')\n",
    "credits=pd.read_csv('tmdb_5000_credits.csv')"
   ]
  },
  {
   "cell_type": "code",
   "execution_count": 297,
   "id": "bd400d02-a0ab-4c9b-8cb3-47f1e409ce88",
   "metadata": {},
   "outputs": [
    {
     "data": {
      "text/plain": [
       "(4803, 20)"
      ]
     },
     "execution_count": 297,
     "metadata": {},
     "output_type": "execute_result"
    }
   ],
   "source": [
    "movies.shape"
   ]
  },
  {
   "cell_type": "code",
   "execution_count": 298,
   "id": "3fcea8f0-9d90-4811-837c-4f2ebb56cb8b",
   "metadata": {},
   "outputs": [
    {
     "data": {
      "text/plain": [
       "(4803, 4)"
      ]
     },
     "execution_count": 298,
     "metadata": {},
     "output_type": "execute_result"
    }
   ],
   "source": [
    "credits.shape"
   ]
  },
  {
   "cell_type": "code",
   "execution_count": 299,
   "id": "ba504646-5d12-48c2-885d-19b96c6deb82",
   "metadata": {},
   "outputs": [],
   "source": [
    "movies=movies.merge(credits,on='title')"
   ]
  },
  {
   "cell_type": "code",
   "execution_count": 300,
   "id": "b5bd816d-6d70-4479-b73b-9b050185f6b7",
   "metadata": {},
   "outputs": [
    {
     "data": {
      "text/plain": [
       "(4809, 23)"
      ]
     },
     "execution_count": 300,
     "metadata": {},
     "output_type": "execute_result"
    }
   ],
   "source": [
    "movies.shape"
   ]
  },
  {
   "cell_type": "code",
   "execution_count": 301,
   "id": "0ad2b5c4-2ffc-4d0d-b255-e6f51950bca6",
   "metadata": {},
   "outputs": [],
   "source": [
    "movies = movies[['genres','id','keywords','title','overview','popularity','crew','release_date','cast']]"
   ]
  },
  {
   "cell_type": "code",
   "execution_count": 302,
   "id": "c3c707db-61b5-4a42-b6c0-9da9d43165ac",
   "metadata": {},
   "outputs": [],
   "source": [
    "movies.dropna(inplace=True)"
   ]
  },
  {
   "cell_type": "code",
   "execution_count": 303,
   "id": "da0ed260-f96f-4988-90b4-3416a72084c7",
   "metadata": {},
   "outputs": [
    {
     "data": {
      "text/plain": [
       "np.int64(0)"
      ]
     },
     "execution_count": 303,
     "metadata": {},
     "output_type": "execute_result"
    }
   ],
   "source": [
    "movies.duplicated().sum()"
   ]
  },
  {
   "cell_type": "code",
   "execution_count": null,
   "id": "87eb609d-69a9-426c-bb1f-6939fdd64ea5",
   "metadata": {},
   "outputs": [],
   "source": []
  },
  {
   "cell_type": "code",
   "execution_count": 304,
   "id": "4bf32565-cdf8-43f0-a793-d3a3c8b96fe5",
   "metadata": {},
   "outputs": [],
   "source": [
    "import ast"
   ]
  },
  {
   "cell_type": "code",
   "execution_count": 305,
   "id": "d67229f0-327d-4dfe-9868-1fec8805284c",
   "metadata": {},
   "outputs": [],
   "source": [
    "def separate(obj):\n",
    "    list1=[]\n",
    "    for i in ast.literal_eval(obj):\n",
    "        list1.append(i['name'])\n",
    "    return np.array(list1)"
   ]
  },
  {
   "cell_type": "code",
   "execution_count": 306,
   "id": "2d6530e4-6076-41f4-8497-baa8ee4417ee",
   "metadata": {},
   "outputs": [],
   "source": [
    "movies['genres']=movies['genres'].apply(separate)"
   ]
  },
  {
   "cell_type": "code",
   "execution_count": 307,
   "id": "a80f135c-09ff-4c2e-b371-0dd9a63c7143",
   "metadata": {},
   "outputs": [],
   "source": [
    "movies['keywords']=movies['keywords'].apply(separate)"
   ]
  },
  {
   "cell_type": "code",
   "execution_count": 308,
   "id": "42c0a344-48fa-4194-a918-2987b5dc1b9c",
   "metadata": {},
   "outputs": [],
   "source": [
    "def covcast(obj):\n",
    "    list1=[];\n",
    "    c=0;\n",
    "    for i in ast.literal_eval(obj):\n",
    "        c+=1\n",
    "        list1.append(i['name'])\n",
    "        if(c==4): \n",
    "            break\n",
    "    return np.array(list1)    "
   ]
  },
  {
   "cell_type": "code",
   "execution_count": 309,
   "id": "498e6506-05a2-4100-be3a-907b5f0c87e6",
   "metadata": {},
   "outputs": [],
   "source": [
    "movies['cast']=movies['cast'].apply(covcast)"
   ]
  },
  {
   "cell_type": "code",
   "execution_count": 310,
   "id": "294712dd-d37e-41be-94b5-6508de6b51da",
   "metadata": {},
   "outputs": [],
   "source": [
    "def convcrew(obj):\n",
    "    list1=[]\n",
    "    for i in ast.literal_eval(obj):\n",
    "        if(i['job']=='Producer' or i['job']=='Director'):\n",
    "            list1.append(i['name'])\n",
    "    return list1\n"
   ]
  },
  {
   "cell_type": "code",
   "execution_count": 311,
   "id": "08d39a46-36f8-4710-a4a7-82fd85de6928",
   "metadata": {},
   "outputs": [],
   "source": [
    "movies['crew']=movies['crew'].apply(convcrew)"
   ]
  },
  {
   "cell_type": "code",
   "execution_count": 312,
   "id": "cbf4081e-5624-4ef3-9d4a-821ec4117c3e",
   "metadata": {},
   "outputs": [],
   "source": [
    "def convrelease(obj):\n",
    "    return obj[:4]"
   ]
  },
  {
   "cell_type": "code",
   "execution_count": 313,
   "id": "ea9902d9-8a97-4e7f-bcc6-015b1afa6876",
   "metadata": {},
   "outputs": [],
   "source": [
    "movies['release_date']=movies['release_date'].apply(convrelease)"
   ]
  },
  {
   "cell_type": "code",
   "execution_count": 314,
   "id": "8b3f1479-4627-4e8d-aa4a-b6ba8bfac68c",
   "metadata": {},
   "outputs": [],
   "source": [
    "def roundoff(num):\n",
    "    num2=int(num)\n",
    "    return ((num2+9)//10)*10"
   ]
  },
  {
   "cell_type": "code",
   "execution_count": 315,
   "id": "d063f602-42e1-46c5-b05c-476f6fbc8164",
   "metadata": {},
   "outputs": [],
   "source": [
    "movies['popularity']=movies['popularity'].apply(roundoff)"
   ]
  },
  {
   "cell_type": "code",
   "execution_count": 316,
   "id": "c48133c1-7fd8-4fe2-8592-ecb0a70c56c7",
   "metadata": {},
   "outputs": [],
   "source": [
    "movies['release_date']=movies['release_date'].apply(lambda x:round(int(x),-1))"
   ]
  },
  {
   "cell_type": "code",
   "execution_count": 317,
   "id": "a3c7636c-9c08-4ace-8807-b5d92a715690",
   "metadata": {},
   "outputs": [],
   "source": [
    "movies['overview']=movies['overview'].apply(lambda x:x.split())"
   ]
  },
  {
   "cell_type": "code",
   "execution_count": 318,
   "id": "ced3bf9d-6f51-4eac-8447-6899e9bc60c4",
   "metadata": {},
   "outputs": [],
   "source": [
    "movies['genres'] = movies['genres'].apply(lambda x:[i.replace(\" \",\"\") for i in x])"
   ]
  },
  {
   "cell_type": "code",
   "execution_count": 319,
   "id": "7fa9787e-29c7-48f5-bf17-5385c6d6413f",
   "metadata": {},
   "outputs": [],
   "source": [
    "movies['keywords'] = movies['keywords'].apply(lambda x:[i.replace(\" \",\"\") for i in x])"
   ]
  },
  {
   "cell_type": "code",
   "execution_count": 320,
   "id": "8513b266-0b9a-4a7e-b268-f2ebdf1181a2",
   "metadata": {},
   "outputs": [],
   "source": [
    "movies['crew'] = movies['crew'].apply(lambda x:[i.replace(\" \",\"\") for i in x])"
   ]
  },
  {
   "cell_type": "code",
   "execution_count": 321,
   "id": "2da5f301-f396-4e15-a6db-7e93e2b7b896",
   "metadata": {},
   "outputs": [],
   "source": [
    "movies['cast'] = movies['cast'].apply(lambda x:[i.replace(\" \",\"\") for i in x])"
   ]
  },
  {
   "cell_type": "code",
   "execution_count": 322,
   "id": "c5fff401-6e8d-45f1-8841-b8812056cff9",
   "metadata": {},
   "outputs": [],
   "source": [
    "movies['release_date']= movies['release_date'].apply(lambda x:[x]) "
   ]
  },
  {
   "cell_type": "code",
   "execution_count": 323,
   "id": "d6cd6451-91a4-49b0-8eb8-8c5d91461a0a",
   "metadata": {},
   "outputs": [],
   "source": [
    "movies['popularity']= movies['popularity'].apply(lambda x:[x]) "
   ]
  },
  {
   "cell_type": "code",
   "execution_count": 324,
   "id": "cab0f0a2-d369-4a4f-a3b5-2f45717650ef",
   "metadata": {},
   "outputs": [],
   "source": [
    "movies['final']= movies['genres']+ movies['keywords']+movies['overview']+movies['popularity']+movies['crew']+movies['cast']+movies['release_date']"
   ]
  },
  {
   "cell_type": "code",
   "execution_count": 325,
   "id": "6e857690-2f84-4840-93e5-b70916fbc996",
   "metadata": {},
   "outputs": [],
   "source": [
    "newdata=movies[['id','title','final']]"
   ]
  },
  {
   "cell_type": "code",
   "execution_count": 326,
   "id": "f645a67a-174c-4c69-9c35-200ba752b481",
   "metadata": {},
   "outputs": [
    {
     "name": "stderr",
     "output_type": "stream",
     "text": [
      "C:\\Users\\kgaks\\AppData\\Local\\Temp\\ipykernel_2780\\3474125888.py:1: SettingWithCopyWarning: \n",
      "A value is trying to be set on a copy of a slice from a DataFrame.\n",
      "Try using .loc[row_indexer,col_indexer] = value instead\n",
      "\n",
      "See the caveats in the documentation: https://pandas.pydata.org/pandas-docs/stable/user_guide/indexing.html#returning-a-view-versus-a-copy\n",
      "  newdata['final'] =newdata['final'].apply(lambda x: \" \".join(str(i) for i in x))\n"
     ]
    }
   ],
   "source": [
    "newdata['final'] =newdata['final'].apply(lambda x: \" \".join(str(i) for i in x))"
   ]
  },
  {
   "cell_type": "code",
   "execution_count": 327,
   "id": "913d038f-9d84-4bd3-b89a-af37416ef013",
   "metadata": {},
   "outputs": [
    {
     "name": "stderr",
     "output_type": "stream",
     "text": [
      "C:\\Users\\kgaks\\AppData\\Local\\Temp\\ipykernel_2780\\4267607298.py:1: SettingWithCopyWarning: \n",
      "A value is trying to be set on a copy of a slice from a DataFrame.\n",
      "Try using .loc[row_indexer,col_indexer] = value instead\n",
      "\n",
      "See the caveats in the documentation: https://pandas.pydata.org/pandas-docs/stable/user_guide/indexing.html#returning-a-view-versus-a-copy\n",
      "  newdata['final'] = newdata['final'].apply(lambda x: x.lower())\n"
     ]
    }
   ],
   "source": [
    "newdata['final'] = newdata['final'].apply(lambda x: x.lower())"
   ]
  },
  {
   "cell_type": "code",
   "execution_count": 328,
   "id": "57cabf9d-fd14-418b-bca1-35e414630a9c",
   "metadata": {},
   "outputs": [],
   "source": [
    "import nltk"
   ]
  },
  {
   "cell_type": "code",
   "execution_count": 329,
   "id": "930858f3-9f11-454b-8265-f1c9f2009a30",
   "metadata": {},
   "outputs": [],
   "source": [
    "from nltk.stem.porter import PorterStemmer\n",
    "ps=PorterStemmer()"
   ]
  },
  {
   "cell_type": "code",
   "execution_count": 330,
   "id": "149b6415-e985-4fd3-92ad-aea2f5f3e55f",
   "metadata": {},
   "outputs": [],
   "source": [
    "def makesame(string):\n",
    "    list1=[]\n",
    "    for i in string.split():\n",
    "        list1.append(ps.stem(i))\n",
    "    return \" \".join(list1)"
   ]
  },
  {
   "cell_type": "code",
   "execution_count": 331,
   "id": "1c0f4f18-d326-4568-bf52-9a80d44332e6",
   "metadata": {},
   "outputs": [
    {
     "name": "stderr",
     "output_type": "stream",
     "text": [
      "C:\\Users\\kgaks\\AppData\\Local\\Temp\\ipykernel_2780\\652859141.py:1: SettingWithCopyWarning: \n",
      "A value is trying to be set on a copy of a slice from a DataFrame.\n",
      "Try using .loc[row_indexer,col_indexer] = value instead\n",
      "\n",
      "See the caveats in the documentation: https://pandas.pydata.org/pandas-docs/stable/user_guide/indexing.html#returning-a-view-versus-a-copy\n",
      "  newdata['final']=newdata['final'].apply(makesame)\n"
     ]
    }
   ],
   "source": [
    "newdata['final']=newdata['final'].apply(makesame)"
   ]
  },
  {
   "cell_type": "code",
   "execution_count": 332,
   "id": "1f0b5aa4-e63a-4dc0-bf17-9a3c2be11d10",
   "metadata": {},
   "outputs": [],
   "source": [
    "from sklearn.feature_extraction.text import CountVectorizer"
   ]
  },
  {
   "cell_type": "code",
   "execution_count": 333,
   "id": "beefd549-015a-41b7-b5cb-13237c247c49",
   "metadata": {},
   "outputs": [],
   "source": [
    "cv = CountVectorizer(max_features=6000, stop_words='english')"
   ]
  },
  {
   "cell_type": "code",
   "execution_count": 334,
   "id": "bb6b6d74-ceab-4186-9876-b0a83b65e246",
   "metadata": {},
   "outputs": [],
   "source": [
    "vectors=cv.fit_transform(newdata['final']).toarray()"
   ]
  },
  {
   "cell_type": "code",
   "execution_count": 335,
   "id": "0c35bfe5-065f-4c3a-a0a4-8e1abefe063a",
   "metadata": {},
   "outputs": [],
   "source": [
    "from sklearn.metrics.pairwise import cosine_similarity"
   ]
  },
  {
   "cell_type": "code",
   "execution_count": 336,
   "id": "fed17f33-15e3-4e0a-80ed-0a32d395f1e8",
   "metadata": {},
   "outputs": [],
   "source": [
    "similarityvec2d=cosine_similarity(vectors)"
   ]
  },
  {
   "cell_type": "code",
   "execution_count": 337,
   "id": "a7aac509-7f2f-4878-8eda-28978206804c",
   "metadata": {},
   "outputs": [],
   "source": [
    "def recommend(movie):\n",
    "    m_index=newdata[newdata['title']==movie].index[0]\n",
    "    distancevec=similarityvec2d[m_index]\n",
    "    recommendindex=sorted(list(enumerate(distancevec)),reverse=True,key=lambda x:x[1])[1:6]\n",
    "    for i in recommendindex:\n",
    "        print(newdata['title'][i[0]])\n",
    "    "
   ]
  },
  {
   "cell_type": "code",
   "execution_count": 339,
   "id": "1c560539-fde5-4379-bc1c-b20256373020",
   "metadata": {},
   "outputs": [
    {
     "name": "stdout",
     "output_type": "stream",
     "text": [
      "Meet Dave\n",
      "Lake Mungo\n",
      "Sardaarji\n",
      "Treasure Planet\n",
      "Ender's Game\n"
     ]
    }
   ],
   "source": [
    "recommend('Space Pirate Captain Harlock')"
   ]
  },
  {
   "cell_type": "code",
   "execution_count": null,
   "id": "c29eb027-3255-4529-b380-384c9d7c7abd",
   "metadata": {},
   "outputs": [],
   "source": []
  }
 ],
 "metadata": {
  "kernelspec": {
   "display_name": "Python 3 (ipykernel)",
   "language": "python",
   "name": "python3"
  },
  "language_info": {
   "codemirror_mode": {
    "name": "ipython",
    "version": 3
   },
   "file_extension": ".py",
   "mimetype": "text/x-python",
   "name": "python",
   "nbconvert_exporter": "python",
   "pygments_lexer": "ipython3",
   "version": "3.12.2"
  }
 },
 "nbformat": 4,
 "nbformat_minor": 5
}
